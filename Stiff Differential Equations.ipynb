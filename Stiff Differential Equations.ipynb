{
 "cells": [
  {
   "cell_type": "markdown",
   "id": "77f0c2de",
   "metadata": {},
   "source": [
    "# Stiff Differential Equations\n",
    "\n",
    "During the numerical solution of initial value problems for ordinary differential equations, it is often observed that explicit numerical schemes fail to work efficiently or at all due to the need to significantly reduce the step size to achieve the desired accuracy. In such cases, the differential equation is said to be *stiff*.\n",
    "\n",
    "**Instead of Definition:** The above definition of stiff differential equations seems to be rough and inaccurate, but the fact is that there is no generally accepted exact definition of this concept yet. In the literature, stiff equations are usually described along different approaches:\n",
    "\n",
    "1. equations for which explicit schemes do not work (efficiently) enough;\n",
    "2. the step size is determined not by the desired accuracy but by stability criteria;\n",
    "3. in the same sense: to achieve a given accuracy, the step size should be reduced not only where the solution oscillates greatly, but also where the solution is otherwise smooth;\n",
    "4. this may shed light on the cause: the solutions change slowly, but the nearby integral curves move away from each other quickly, so it is important to choose a small step size;\n",
    "5. mostly a mathematical definition, which is still not precise enough and not applicable in all cases: an autonomous system $\\dot{x}=f(x)$ is stiff if for all eigenvalues $\\lambda_i$ of the Jacobi matrix $\\partial_x f$ at every point, $Re(\\lambda_i)\\le 0$ and the *stiffness ratio* $S=\\frac{\\max_i |\\lambda_i|}{\\min_i |\\lambda_i|}$ satisfies $S\\gg 1$.\n",
    "\n",
    "**Note:** There is an example where two different differential equation systems have the same analytical solution, but while one equation is stiff, the other is not. Therefore, it is important to emphasize that stiffness characterizes the behavior of the differential equation in numerical solutions, not the solution itself.\n",
    "\n",
    "Implicit schemes are generally well-suited for solving stiff equations. Scipy offers three implicit solvers for stiff equations: 'Radau', 'BDF', and 'LSODA', the latter of which automatically switches between an explicit and an implicit scheme (stiffness detection).\n",
    "\n",
    "In the following example, we will solve a stiff differential equation with two different numerical schemes (explicit and implicit) and compare the results obtained.\n",
    "\n",
    "## Example: Robertson's Autocatalytic Chemical Reaction\n",
    "\n",
    "One of the classic examples of stiff differential equations is the Robertson autocatalytic process, which describes the conversion of three substances, $X$, $Y$, and $Z$, into each other according to the following equations:\n",
    "\n",
    "\\begin{align}\n",
    "X &\\stackrel{k_1}{\\longrightarrow} Y \\\\\n",
    "Y + Y &\\stackrel{k_2}{\\longrightarrow} Z + Y\\\\\n",
    "Y + Z &\\stackrel{k_3}{\\longrightarrow} X + Z,\n",
    "\\end{align}\n",
    "\n",
    "where the reaction rate constants $k_1=0.04$, $k_2=3.0\\times 10^7$, and $k_3=1.0\\times 10^4$ in Robertson's example are shown above the arrows. The interpretation of the above equation system is:\n",
    "\n",
    "* The substance $X$ is capable of transforming itself into substance $Y$ (1), but this reaction can be reversed in the presence of substance $Z$, where $Z$ acts as a catalyst in the reverse process (3). /This does not exist in reality -- ed./\n",
    "\n",
    "* Substance $Y$ catalyzes its own transformation into substance $Z$.\n",
    "\n",
    "The differential equation system for the Robertson model is:\n",
    "\\begin{align}\n",
    "\\dot{x} &= -0.04x+10^4 yz\\\\\n",
    "\\dot{y} &= 0.04x -10^4 yz -3\\times 10^7 y^2 \\\\\n",
    "\\dot{z} &= 3\\times 10^7 y^2\n",
    "\\end{align}\n",
    "\n",
    "The following program compares two different ODE integrator functions in SciPy:\n",
    "\n",
    "* The 'RK45' solver corresponds to the MATLAB ode45 solver, an explicit fourth-fifth order Runge-Kutta method with adaptive step size selection, which is not suitable for solving stiff differential equations.\n",
    "\n",
    "* 'Radau', on the other hand, is a fifth-order implicit Runge-Kutta method that handles stiff equations well.\n",
    "\n",
    "From the simulation reports, it can be seen that the 'RK45' explicit solver calculates the right-hand side of the equation in orders of magnitude more points than the implicit solver, and due to the adaptive step size selection, it generates errors as the step size decreases below the machine precision.\n"
   ]
  },
  {
   "cell_type": "code",
   "execution_count": 14,
   "id": "dde60354",
   "metadata": {},
   "outputs": [
    {
     "name": "stdout",
     "output_type": "stream",
     "text": [
      "\n",
      "4-5th order Runge-Kutta method with adaptive step size selection:\n",
      "Number of function evaluations: 3152\n",
      "Numerical integration of the differential equation encountered a problem.\n",
      "Required step size is less than spacing between numbers.\n",
      "\n",
      "5th order implicit Runge-Kutta method:\n",
      "Number of function evaluations: 248\n",
      "Numerical integration of the differential equation was successful.\n",
      "The solver successfully reached the end of the integration interval.\n"
     ]
    },
    {
     "data": {
      "image/png": "[encoded data removed]",
      "text/plain": [
       "<Figure size 432x288 with 1 Axes>"
      ]
     },
     "metadata": {
      "needs_background": "light"
     },
     "output_type": "display_data"
    }
   ],
   "source": [
    "import numpy as np\n",
    "from scipy.integrate import solve_ivp\n",
    "import matplotlib.pyplot as plt\n",
    "\n",
    "\n",
    "def report(s):\n",
    "    \"\"\"\n",
    "    Differential equation solver reporting function\n",
    "    \"\"\"\n",
    "    \n",
    "    print(\"Number of function evaluations: \" + str(s.nfev))\n",
    "    \n",
    "    if s.success:\n",
    "        print(\"Numerical integration of the differential equation was successful.\")\n",
    "    else:\n",
    "        print(\"Numerical integration of the differential equation encountered a problem.\")\n",
    "        \n",
    "    print(s.message)\n",
    "    \n",
    "k1 = 0.04\n",
    "k2 = 3.e7\n",
    "k3 = 1.e4\n",
    "\n",
    "robertson = lambda t, r: np.array([-k1*r[0] + k3*r[1]*r[2], \n",
    "                                    k1*r[0] - k3*r[1]*r[2] - k2*r[1]**2.0,\n",
    "                                    k2*r[1]**2.0])\n",
    "\n",
    "r0 = np.array([1.0, 0.0, 0.0])\n",
    "\n",
    "print(\"\\n4-5th order Runge-Kutta method with adaptive step size selection:\")\n",
    "sol = solve_ivp(robertson, (0, 500), r0, method='RK45')\n",
    "report(sol)\n",
    "\n",
    "print(\"\\n5th order implicit Runge-Kutta method:\")\n",
    "sol = solve_ivp(robertson, (0, 500), r0, method='Radau')\n",
    "report(sol)\n",
    "\n",
    "# Plot the solution\n",
    "fig = plt.figure()\n",
    "ax = fig.add_subplot(111)\n",
    "\n",
    "ax.plot(sol.t, sol.y[0],'b-',lw=2,label='$x$')\n",
    "ax.plot(sol.t, 1e4*sol.y[1],'r-',lw=2,label='$10^4 y$')\n",
    "ax.plot(sol.t, sol.y[2],'y-',lw=2,label='$z$')\n",
    "\n",
    "ax.legend();\n"
   ]
  },
  {
   "cell_type": "markdown",
   "id": "5391d5a6",
   "metadata": {},
   "source": [
    "## My Task\n",
    "\n",
    "Let's search for a stiff differential equation that occurs in engineering or physical applications and try to integrate it using explicit and implicit schemes.\n"
   ]
  },
  {
   "cell_type": "markdown",
   "id": "c0449c8e",
   "metadata": {},
   "source": [
    "## Van der Pol oscillator\n",
    "\n",
    "One example of a stiff differential equation that arises in engineering and physical applications is the Van der Pol oscillator equation, which describes the behavior of certain electrical circuits and other oscillatory systems. The Van der Pol oscillator equation is given by:\n",
    "\n",
    "$$\\frac{d^2 y}{dt^2} - \\mu (1 - y^2) \\frac{dy}{dt} + y = 0$$\n",
    "\n",
    "where y is the dependent variable, $\\mu$ is a constant parameter, indicating the nonlinearity and the strength of the damping.\n",
    "\n",
    "To solve this differential equation numerically, we can use the same explicit and implicit numerical methods as before in Robertson's Chemical Reaction model:"
   ]
  },
  {
   "cell_type": "code",
   "execution_count": 22,
   "id": "428f0081",
   "metadata": {},
   "outputs": [
    {
     "name": "stdout",
     "output_type": "stream",
     "text": [
      "\n",
      "4-5th order Runge-Kutta method with adaptive step size selection:\n",
      "Number of function evaluations: 62318\n",
      "Numerical integration of the differential equation was successful.\n",
      "The solver successfully reached the end of the integration interval.\n",
      "\n",
      "5th order implicit Runge-Kutta method:\n",
      "Number of function evaluations: 555\n",
      "Numerical integration of the differential equation was successful.\n",
      "The solver successfully reached the end of the integration interval.\n"
     ]
    },
    {
     "data": {
      "image/png": "[encoded data removed]",
      "text/plain": [
       "<Figure size 576x576 with 2 Axes>"
      ]
     },
     "metadata": {
      "needs_background": "light"
     },
     "output_type": "display_data"
    }
   ],
   "source": [
    "import numpy as np\n",
    "from scipy.integrate import solve_ivp\n",
    "import matplotlib.pyplot as plt\n",
    "\n",
    "def report(s):\n",
    "    \"\"\"\n",
    "    Differential equation solver reporting function\n",
    "    \"\"\"\n",
    "    \n",
    "    print(\"Number of function evaluations: \" + str(s.nfev))\n",
    "    \n",
    "    if s.success:\n",
    "        print(\"Numerical integration of the differential equation was successful.\")\n",
    "    else:\n",
    "        print(\"Numerical integration of the differential equation encountered a problem.\")\n",
    "        \n",
    "    print(s.message)\n",
    "\n",
    "# Van der Pol oscillator parameters\n",
    "mu = 1000\n",
    "\n",
    "vanderpol = lambda t, y: np.array([y[1], mu*(1 - y[0]**2)*y[1] - y[0]])\n",
    "\n",
    "# Initial conditions\n",
    "y0 = [1.0, 0.0]\n",
    "\n",
    "# Time span\n",
    "tspan = [0, 10]\n",
    "\n",
    "# Solve using explicit Runge-Kutta method (RK45)\n",
    "print(\"\\n4-5th order Runge-Kutta method with adaptive step size selection:\")\n",
    "sol_exp = solve_ivp(vanderpol, tspan, y0, method='RK45')\n",
    "report(sol_exp)\n",
    "\n",
    "# Solve using implicit Radau method\n",
    "print(\"\\n5th order implicit Runge-Kutta method:\")\n",
    "sol_imp = solve_ivp(vanderpol, tspan, y0, method='Radau')\n",
    "report(sol_imp)\n",
    "\n",
    "# Plot the results\n",
    "fig, axs = plt.subplots(2, 1, figsize=(8, 8))\n",
    "\n",
    "# Plot the position vs. time\n",
    "axs[0].plot(sol_exp.t, sol_exp.y[0],'b-', label='Explicit')\n",
    "axs[0].plot(sol_imp.t, sol_imp.y[0],'r--', label='Implicit')\n",
    "axs[0].set_xlabel('t')\n",
    "axs[0].set_ylabel('y')\n",
    "axs[0].set_title('Van der Pol oscillator')\n",
    "axs[0].legend()\n",
    "\n",
    "# Plot the velocity vs. time\n",
    "axs[1].plot(sol_exp.t, sol_exp.y[1], 'b-',label='Explicit')\n",
    "axs[1].plot(sol_imp.t, sol_imp.y[1],'r--', label='Implicit')\n",
    "axs[1].set_xlabel('t')\n",
    "axs[1].set_ylabel('$\\dot{y}$')\n",
    "axs[1].legend()\n",
    "\n",
    "plt.show()\n"
   ]
  },
  {
   "cell_type": "code",
   "execution_count": null,
   "id": "57750e3f",
   "metadata": {},
   "outputs": [],
   "source": []
  },
  {
   "cell_type": "markdown",
   "id": "54bed570",
   "metadata": {},
   "source": [
    "## Explaination\n"
   ]
  },
  {
   "cell_type": "markdown",
   "id": "85f99f49",
   "metadata": {},
   "source": [
    "\n",
    "In mathematics, a stiff equation is a differential equation for which certain numerical methods for solving the equation are numerically unstable, unless the step size is taken to be extremely small.\n",
    " \n",
    "The code solves the ODE using two different numerical methods, an explicit Runge-Kutta method with adaptive step size selection (RK45) and an implicit Radau method. It compares the results of the two methods by plotting the position and velocity of the oscillator over time.\n",
    "\n",
    "When the value of the parameter $\\mu$ is small, the system is not stiff, and both methods produce similar results. However, when mu is large, the system becomes stiff, and the implicit method is more accurate and efficient in solving the ODE than the explicit method.\n",
    "\n",
    "If we try $\\mu$ = 100, which is a moderate value that does not lead to stiffness. The results of both methods will be similar, and both methods are successful in solving the ODE.\n",
    "\n",
    "In the second code example, $\\mu$ = 1000, which is a large value that leads to stiffness. The explicit method encounters difficulties in solving the ODE and requires many function evaluations, while the implicit method is more accurate and efficient in solving the ODE.\n",
    "\n",
    "So the more we increase the value of $\\mu$ the harder the explicit method will face computing the ODEs to get the precise approxiamation. \n",
    "\n",
    "So, the implicit Radau method shows better performance than the explicit RK45 method for the stiff Van der Pol oscillator. The implicit method requires fewer function evaluations, and produces a smoother and more stable solution without oscillations. (Although the difference in the numerical solutions between the implicit and explicit methods may not be very apparent. This may be because the Van der Pol oscillator in this case is not very stiff and does not require very small time step sizes to maintain stability.)\n",
    "\n",
    "Therefore, it can be concluded that for stiff ODEs, implicit methods are generally more accurate and efficient than explicit methods."
   ]
  },
  {
   "cell_type": "markdown",
   "id": "58f4a6d1",
   "metadata": {},
   "source": [
    "We see that the function changes rapidly the solution of the differential equation changes with respect to changes in the parameters $\\mu$ of the equation"
   ]
  },
  {
   "cell_type": "markdown",
   "id": "68b2c02d",
   "metadata": {},
   "source": [
    "explicit methods with adaptive step size are not well-suited for stiff equations, since they require very small step sizes to accurately resolve the rapid oscillations, which can make the computation very expensive in terms of time and memory."
   ]
  },
  {
   "cell_type": "markdown",
   "id": "a125c7cc",
   "metadata": {},
   "source": [
    "In the code provided, both the explicit Runge-Kutta method (RK45) and the implicit Radau method used by solve_ivp have adaptive step size selection.\n",
    "\n",
    "\n",
    "In the case of the Van der Pol oscillator equation, increasing the value of $\\mu$ can make the equation stiffer, meaning that the solution oscillates more rapidly and over a smaller scale. This can make it more difficult for numerical methods with fixed step sizes to accurately capture the behavior of the solution, leading to oscillatory or unstable behavior in the numerical solution.\n",
    "\n",
    "In the code provided, the implicit Radau method is used to solve the Van der Pol oscillator equation, which is known to be well-suited for stiff equations. This method is able to accurately capture the small-scale behavior of the solution, even for larger values of $\\mu$, and produces a stable and accurate numerical solution.\n",
    "\n",
    "\n"
   ]
  },
  {
   "cell_type": "code",
   "execution_count": null,
   "id": "d59f4df1",
   "metadata": {},
   "outputs": [],
   "source": []
  }
 ],
 "metadata": {
  "kernelspec": {
   "display_name": "Python 3 (ipykernel)",
   "language": "python",
   "name": "python3"
  },
  "language_info": {
   "codemirror_mode": {
    "name": "ipython",
    "version": 3
   },
   "file_extension": ".py",
   "mimetype": "text/x-python",
   "name": "python",
   "nbconvert_exporter": "python",
   "pygments_lexer": "ipython3",
   "version": "3.9.12"
  }
 },
 "nbformat": 4,
 "nbformat_minor": 5
}
